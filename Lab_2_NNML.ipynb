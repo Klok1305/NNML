{
  "nbformat": 4,
  "nbformat_minor": 0,
  "metadata": {
    "colab": {
      "provenance": [],
      "authorship_tag": "ABX9TyPkwaq9aDXtm6rbpKviWaPT",
      "include_colab_link": true
    },
    "kernelspec": {
      "name": "python3",
      "display_name": "Python 3"
    },
    "language_info": {
      "name": "python"
    }
  },
  "cells": [
    {
      "cell_type": "markdown",
      "metadata": {
        "id": "view-in-github",
        "colab_type": "text"
      },
      "source": [
        "<a href=\"https://colab.research.google.com/github/Klok1305/NNML/blob/dev/Lab_2_NNML.ipynb\" target=\"_parent\"><img src=\"https://colab.research.google.com/assets/colab-badge.svg\" alt=\"Open In Colab\"/></a>"
      ]
    },
    {
      "cell_type": "markdown",
      "source": [
        "Лабораторная работа №2\n",
        "ФИО: Безыкорнов Никита\n",
        "Группа: БИВТ-20-4"
      ],
      "metadata": {
        "id": "FWALP0mz6pQQ"
      }
    },
    {
      "cell_type": "code",
      "source": [
        "import numpy as np\n",
        "import math"
      ],
      "metadata": {
        "id": "C8xZiMOa6vAj"
      },
      "execution_count": 18,
      "outputs": []
    },
    {
      "cell_type": "markdown",
      "source": [
        "Задача 1. Реализовать слой с функцией активации \"сигмоида\"\n"
      ],
      "metadata": {
        "id": "0PPqAeNz64p5"
      }
    },
    {
      "cell_type": "code",
      "source": [
        "class SigmoidLayer():\n",
        "    def __init__(self):\n",
        "        self.X = []\n",
        "        self.params = []\n",
        "        self.output = None\n",
        "        self.gradInput = None\n",
        "\n",
        "    def forward(self, X):\n",
        "        self.X = X.copy\n",
        "        self.output = 1 / (1 + np.exp(-X))\n",
        "        return self.output\n"
      ],
      "metadata": {
        "id": "yulnlazv60KM"
      },
      "execution_count": 21,
      "outputs": []
    },
    {
      "cell_type": "code",
      "source": [
        "np.random.seed(17)\n",
        "\n",
        "X = np.random.random(size=(100, 3))\n",
        "sigmoid = SigmoidLayer()\n",
        "output = sigmoid.forward(X)\n",
        "correct_answer = np.array([[0.57313782, 0.62961995, 0.54773438],\n",
        "                           [0.51696857, 0.68718368, 0.65843628],\n",
        "                           [0.65419284, 0.64005501, 0.50976449],\n",
        "                           [0.58851107, 0.7202462 , 0.51500666],\n",
        "                           [0.70350447, 0.70626044, 0.51279562]])\n",
        "assert np.isclose(output[:5], correct_answer).all()\n",
        "assert hasattr(sigmoid, \"params\"), \"Нет параметра params в реализованном классе\"\n",
        "assert hasattr(sigmoid, \"gradInput\"), \"Нет параметра gradInput в реализованном классе\"\n",
        "assert hasattr(sigmoid, \"X\"), \"Не сохранили X в реализованном классе\""
      ],
      "metadata": {
        "id": "Rp0JsoUU6125"
      },
      "execution_count": 22,
      "outputs": []
    },
    {
      "cell_type": "markdown",
      "source": [
        "Задача 2. Реализовать слой с активацией гиперболического тангенса"
      ],
      "metadata": {
        "id": "v0eJOVGxGfYF"
      }
    },
    {
      "cell_type": "code",
      "source": [
        "class TanhLayer():\n",
        "    def __init__(self):\n",
        "        self.X = []\n",
        "        self.params = []\n",
        "        self.output = None\n",
        "        self.gradInput = None\n",
        "\n",
        "    def forward(self, X):\n",
        "        self.X = X.copy\n",
        "        self.output = (np.exp(X) - np.exp(-X)) / (np.exp(X) + np.exp(-X))\n",
        "        return self.output"
      ],
      "metadata": {
        "id": "RcJhRxzMGf_O"
      },
      "execution_count": 23,
      "outputs": []
    },
    {
      "cell_type": "code",
      "source": [
        "np.random.seed(17)\n",
        "\n",
        "X = np.random.random(size=(100, 3))\n",
        "tanh = TanhLayer()\n",
        "output = tanh.forward(X)\n",
        "correct_answer = np.array([[0.28642281, 0.48582948, 0.18921297],\n",
        "                           [0.0677962, 0.65669792, 0.57591821],\n",
        "                           [0.5632092, 0.51946218, 0.03904306],\n",
        "                           [0.34328675, 0.73782249, 0.05997262],\n",
        "                           [0.69833441, 0.70505935, 0.05114899]])\n",
        "assert np.isclose(output[:5], correct_answer).all()\n",
        "assert hasattr(tanh, \"params\"), \"Нет параметра params в реализованном классе\"\n",
        "assert hasattr(tanh, \"gradInput\"), \"Нет параметра gradInput в реализованном классе\"\n",
        "assert hasattr(tanh, \"X\"), \"Не сохранили X в реализованном классе\"\n"
      ],
      "metadata": {
        "id": "cBuFtNVkGlJh"
      },
      "execution_count": 24,
      "outputs": []
    },
    {
      "cell_type": "markdown",
      "source": [
        "Задача 3. Реализовать функцию потерь MSE"
      ],
      "metadata": {
        "id": "Wt3uKSrXIqxK"
      }
    },
    {
      "cell_type": "code",
      "source": [
        "class MSELoss():\n",
        "    def forward(self, y_true, y_pred):\n",
        "        self.output = (1 / len(y_true)) * sum((y_true - y_pred) ** 2)\n",
        "        return self.output"
      ],
      "metadata": {
        "id": "J66zfSJCIucs"
      },
      "execution_count": 25,
      "outputs": []
    },
    {
      "cell_type": "code",
      "source": [
        "np.random.seed(17)\n",
        "\n",
        "y_true = np.random.randint(0, 1000, size=(100))\n",
        "y_pred = np.random.randint(0, 1000, size=(100))\n",
        "mse = MSELoss()\n",
        "output = mse.forward(y_true, y_pred)\n",
        "correct_answer = 157953.51\n",
        "assert round(output) == round(correct_answer)\n"
      ],
      "metadata": {
        "id": "p0WJrOKNIwHc"
      },
      "execution_count": 26,
      "outputs": []
    },
    {
      "cell_type": "markdown",
      "source": [
        "Задача 4. Реализовать каркас нейросети"
      ],
      "metadata": {
        "id": "NfJSwUmHIzLd"
      }
    },
    {
      "cell_type": "code",
      "source": [
        "class LinearLayer:\n",
        "    \"\"\"\n",
        "    Линейный слой с семинаров, ничего менять не надо\n",
        "    \"\"\"\n",
        "\n",
        "    def __init__(self, in_size, out_size):\n",
        "        self.W = np.random.randn(in_size, out_size)\n",
        "        self.params = [self.W]\n",
        "        self.gradW = None\n",
        "        self.gradInput = None\n",
        "\n",
        "    def forward(self, X):\n",
        "        self.X = X.copy()\n",
        "        output = X.dot(self.W)\n",
        "        return output\n",
        "\n",
        "\n",
        "class NN:\n",
        "    def __init__(self, loss_func):\n",
        "        self.layers = []\n",
        "        self.params = []\n",
        "        self.grads = []\n",
        "        self.loss_func = loss_func\n",
        "\n",
        "    def add_layer(self, layer):\n",
        "        self.layers.append(layer)\n",
        "\n",
        "    def forward(self, X):\n",
        "        self.output = X\n",
        "        for layer in self.layers:\n",
        "            self.output = layer.forward(self.output)\n",
        "        return self.output"
      ],
      "metadata": {
        "id": "tYFo-XiEI4xI"
      },
      "execution_count": 27,
      "outputs": []
    },
    {
      "cell_type": "code",
      "source": [
        "nn = NN(MSELoss())\n",
        "\n",
        "assert hasattr(nn, \"layers\")\n",
        "assert hasattr(nn, \"params\")\n",
        "assert hasattr(nn, \"grads\")\n",
        "assert hasattr(nn, \"loss_func\")\n",
        "assert isinstance(nn.loss_func, MSELoss)"
      ],
      "metadata": {
        "id": "mR4jBpspQjOj"
      },
      "execution_count": 28,
      "outputs": []
    },
    {
      "cell_type": "code",
      "source": [
        "np.random.seed(17)\n",
        "\n",
        "X = np.random.random(size=(100, 3))\n",
        "nn = NN(MSELoss())\n",
        "\n",
        "linear1 = LinearLayer(3, 5)\n",
        "nn.add_layer(linear1)\n",
        "\n",
        "sigmoid1 = SigmoidLayer()\n",
        "nn.add_layer(sigmoid1)\n",
        "\n",
        "linear2 = LinearLayer(5, 1)\n",
        "nn.add_layer(linear2)\n",
        "\n",
        "sigmoid2 = SigmoidLayer()\n",
        "nn.add_layer(sigmoid2)\n",
        "\n",
        "output_nn = nn.forward(X)\n",
        "\n",
        "assert round(output_nn.sum()) == 65"
      ],
      "metadata": {
        "id": "vBzPYGUiQk2b"
      },
      "execution_count": 29,
      "outputs": []
    },
    {
      "cell_type": "markdown",
      "source": [
        "Задача 5. Соберите свою собственную нейросеть"
      ],
      "metadata": {
        "id": "KZesKWyBSaj0"
      }
    },
    {
      "cell_type": "code",
      "source": [
        "np.random.seed(17)\n",
        "\n",
        "nn = NN(MSELoss())\n",
        "\n",
        "linears = [LinearLayer(4, 4), LinearLayer(4, 5), LinearLayer(5, 6), LinearLayer(6, 4), LinearLayer(4, 3),\n",
        "           LinearLayer(3, 3)]\n",
        "\n",
        "for layer in linears:\n",
        "    nn.add_layer(layer)"
      ],
      "metadata": {
        "id": "t3kD6S49Scza"
      },
      "execution_count": 30,
      "outputs": []
    },
    {
      "cell_type": "code",
      "source": [
        "np.random.seed(17)\n",
        "X = np.random.randn(100, 4)\n",
        "output = nn.forward(X)\n",
        "\n",
        "assert output.shape == (100, 3)\n",
        "\n",
        "layer_weights = []\n",
        "for layer in nn.layers:\n",
        "    if isinstance(layer, LinearLayer):\n",
        "        layer_weights.append(layer.W.shape)\n",
        "right_weights = [(4, 4), (4, 5), (5, 6), (6, 4), (4, 3), (3, 3)]\n",
        "assert layer_weights == right_weights\n"
      ],
      "metadata": {
        "id": "FZaXHtSESeua"
      },
      "execution_count": 31,
      "outputs": []
    },
    {
      "cell_type": "markdown",
      "source": [
        "![photo_2023-04-01_17-49-48.jpg](data:image/jpeg;base64,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)"
      ],
      "metadata": {
        "id": "UWNddx3HTsyr"
      }
    }
  ]
}