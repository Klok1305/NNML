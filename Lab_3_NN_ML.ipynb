{
  "nbformat": 4,
  "nbformat_minor": 0,
  "metadata": {
    "colab": {
      "provenance": [],
      "include_colab_link": true
    },
    "kernelspec": {
      "name": "python3",
      "display_name": "Python 3"
    },
    "language_info": {
      "name": "python"
    }
  },
  "cells": [
    {
      "cell_type": "markdown",
      "metadata": {
        "id": "view-in-github",
        "colab_type": "text"
      },
      "source": [
        "<a href=\"https://colab.research.google.com/github/Klok1305/NNML/blob/dev/Lab_3_NN_ML.ipynb\" target=\"_parent\"><img src=\"https://colab.research.google.com/assets/colab-badge.svg\" alt=\"Open In Colab\"/></a>"
      ]
    },
    {
      "cell_type": "markdown",
      "source": [
        "Безыкорнов Никита БИВТ-20-4 Лаба 3"
      ],
      "metadata": {
        "id": "zUwkMHqBqD7t"
      }
    },
    {
      "cell_type": "code",
      "execution_count": 271,
      "metadata": {
        "id": "0jJgtDLTnaHG"
      },
      "outputs": [],
      "source": [
        "import numpy as np\n",
        "import matplotlib.pyplot as plt\n",
        "\n",
        "from IPython.display import clear_output"
      ]
    },
    {
      "cell_type": "markdown",
      "source": [
        "Задача 1."
      ],
      "metadata": {
        "id": "Qo4GlPVDtgB2"
      }
    },
    {
      "cell_type": "code",
      "source": [
        "class SigmoidLayer():\n",
        "    def __init__(self):\n",
        "        self.params = []\n",
        "        self.gradInput = None\n",
        "\n",
        "    def forward(self, X):\n",
        "        self.X = X.copy()\n",
        "        output = 1 / (1 + np.exp(-X))\n",
        "        return output\n",
        "    \n",
        "    def backward(self, dout):\n",
        "        sigmoid = 1 / (1 + np.exp(-self.X))\n",
        "        self.gradInput = dout * (sigmoid * (1 - sigmoid))\n",
        "        return self.gradInput, []\n",
        "        "
      ],
      "metadata": {
        "id": "OGR24ie1tcUD"
      },
      "execution_count": 272,
      "outputs": []
    },
    {
      "cell_type": "code",
      "source": [
        "np.random.seed(17)\n",
        "\n",
        "X = np.random.random(size=(100, 3))\n",
        "sigmoid = SigmoidLayer()\n",
        "output = sigmoid.forward(X)\n",
        "correct_answer = np.array([[0.57313782, 0.62961995, 0.54773438],\n",
        "                           [0.51696857, 0.68718368, 0.65843628],\n",
        "                           [0.65419284, 0.64005501, 0.50976449],\n",
        "                           [0.58851107, 0.7202462 , 0.51500666],\n",
        "                           [0.70350447, 0.70626044, 0.51279562]])\n",
        "assert np.isclose(output[:5], correct_answer).all()\n",
        "assert hasattr(sigmoid, \"params\"), \"Нет параметра params в реализованном классе\"\n",
        "assert hasattr(sigmoid, \"gradInput\"), \"Нет параметра gradInput в реализованном классе\"\n",
        "assert hasattr(sigmoid, \"X\"), \"Не сохранили X в реализованном классе\"\n",
        "\n",
        "\n",
        "dout = np.random.random(size=(100, 3))\n",
        "dInput, _ = sigmoid.backward(dout)\n",
        "correct_dInput = np.array([[0.19460589, 0.20407074, 0.17488009],\n",
        "                           [0.1656316 , 0.10298473, 0.08073351],\n",
        "                           [0.21590141, 0.1403435 , 0.21416212],\n",
        "                           [0.21320927, 0.03610846, 0.05416308],\n",
        "                           [0.00737656, 0.03121984, 0.02882668]])\n",
        "assert np.isclose(dInput[:5], correct_dInput).all()"
      ],
      "metadata": {
        "id": "vajJhZNhttjy"
      },
      "execution_count": 273,
      "outputs": []
    },
    {
      "cell_type": "markdown",
      "source": [
        "Задача 2"
      ],
      "metadata": {
        "id": "LA4YdtKXXFqF"
      }
    },
    {
      "cell_type": "code",
      "source": [
        "class TanhLayer():\n",
        "    def __init__(self):\n",
        "        self.params = []\n",
        "        self.gradInput = None\n",
        "\n",
        "    def forward(self, X):\n",
        "        self.X = X.copy()\n",
        "        output = (np.exp(X) - np.exp(-X)) / (np.exp(X) + np.exp(-X))\n",
        "        return output\n",
        "    \n",
        "    def backward(self, dout):\n",
        "        tanh = (np.exp(X) - np.exp(-1 * X)) / (np.exp(X) + np.exp(-1 * X))\n",
        "        self.gradInput = dout * (1 - tanh**2)\n",
        "        return self.gradInput, []"
      ],
      "metadata": {
        "id": "LG0U3gaiXAdf"
      },
      "execution_count": 274,
      "outputs": []
    },
    {
      "cell_type": "code",
      "source": [
        "np.random.seed(17)\n",
        "\n",
        "X = np.random.random(size=(100, 3))\n",
        "tanh = TanhLayer()\n",
        "output = tanh.forward(X)\n",
        "correct_answer = np.array([[0.28642281, 0.48582948, 0.18921297],\n",
        "                           [0.0677962 , 0.65669792, 0.57591821],\n",
        "                           [0.5632092 , 0.51946218, 0.03904306],\n",
        "                           [0.34328675, 0.73782249, 0.05997262],\n",
        "                           [0.69833441, 0.70505935, 0.05114899]])\n",
        "assert np.isclose(output[:5], correct_answer).all()\n",
        "assert hasattr(tanh, \"params\"), \"Нет параметра params в реализованном классе\"\n",
        "assert hasattr(tanh, \"gradInput\"), \"Нет параметра gradInput в реализованном классе\"\n",
        "assert hasattr(tanh, \"X\"), \"Не сохранили X в реализованном классе\"\n",
        "\n",
        "\n",
        "dout = np.random.random(size=(100, 3))\n",
        "dInput, _ = tanh.backward(dout)\n",
        "correct_dInput = np.array([[0.7301867 , 0.66854527, 0.68068037],\n",
        "                           [0.66024164, 0.27247731, 0.23991181],\n",
        "                           [0.65163784, 0.44479135, 0.85566899],\n",
        "                           [0.77667226, 0.08164937, 0.21606773],\n",
        "                           [0.01811832, 0.07567937, 0.11508041]])\n",
        "assert np.isclose(dInput[:5], correct_dInput).all()\n"
      ],
      "metadata": {
        "id": "LEif5pnWX_YA"
      },
      "execution_count": 275,
      "outputs": []
    },
    {
      "cell_type": "markdown",
      "source": [
        "Задача 3"
      ],
      "metadata": {
        "id": "yaY9k5D1YoCD"
      }
    },
    {
      "cell_type": "code",
      "source": [
        "class MSELoss():\n",
        "    def forward(self, y_true, y_pred):\n",
        "        output = (1 / len(y_true)) * np.sum((y_true - y_pred)**2)\n",
        "        return output\n",
        "    \n",
        "    def backward(self, y_true, y_pred):\n",
        "        grad = 2 * (y_pred - y_true) / len(y_pred)       \n",
        "        return grad"
      ],
      "metadata": {
        "id": "O6uoNXaTYokV"
      },
      "execution_count": 276,
      "outputs": []
    },
    {
      "cell_type": "code",
      "source": [
        "np.random.seed(17)\n",
        "\n",
        "y_true = np.random.randint(0, 1000, size=(100))\n",
        "y_pred = np.random.randint(0, 1000, size=(100))\n",
        "mse = MSELoss()\n",
        "output = mse.forward(y_true, y_pred)\n",
        "correct_answer = 157953.51\n",
        "assert round(output) == round(correct_answer)\n",
        "\n",
        "dout = mse.backward(y_true, y_pred)\n",
        "right_dout = np.array([3.56, 1.24, 10.2, 7.68, 3.02, 9.04, -12.84, -2.16, 3.04, 0.24])\n",
        "assert np.isclose(dout[:10], right_dout).all()\n",
        "assert round(dout.sum(), 3) == 19.26"
      ],
      "metadata": {
        "id": "12-CQkPxZjzc"
      },
      "execution_count": 277,
      "outputs": []
    },
    {
      "cell_type": "markdown",
      "source": [
        "Задача 4"
      ],
      "metadata": {
        "id": "amcU4dECZnGy"
      }
    },
    {
      "cell_type": "code",
      "source": [
        "class LinearLayer:\n",
        "    def __init__(self, in_size, out_size):\n",
        "        self.W = np.random.randn(in_size, out_size)\n",
        "        self.params = [self.W]\n",
        "        self.gradW = None\n",
        "        self.gradInput = None\n",
        "        \n",
        "\n",
        "    def forward(self, X):\n",
        "        self.X = X.copy()\n",
        "        output = X.dot(self.W)\n",
        "        return output\n",
        "    \n",
        "\n",
        "    def backward(self, dout):\n",
        "        self.gradW = self.X.T.dot(dout)\n",
        "        self.gradInput = dout.dot(self.W.T)\n",
        "        return self.gradInput, [self.gradW]\n",
        "\n",
        "\n",
        "class NN:\n",
        "    def __init__(self, loss_func):\n",
        "        self.layers = []\n",
        "        self.params = []\n",
        "        self.grads = []\n",
        "        self.loss_func = loss_func\n",
        "\n",
        "\n",
        "    def add_layer(self, layer):\n",
        "        self.layers.append(layer)\n",
        "        self.params.append(layer.params)\n",
        "        self.grads.append(layer.gradInput)\n",
        "\n",
        "\n",
        "    def forward(self, X):\n",
        "        output = X\n",
        "        for oneLayer in self.layers:\n",
        "            output = oneLayer.forward(output)\n",
        "        return output\n",
        "\n",
        "    \n",
        "    def backward(self, dout):\n",
        "        self.clear_grad_param()\n",
        "        for oneLayer in reversed(self.layers):\n",
        "            dout, grad = oneLayer.backward(dout)\n",
        "            self.grads.append(grad)\n",
        "        return self.grads\n",
        "\n",
        "\n",
        "    def train_step(self, X, y):\n",
        "        self.output = self.predict(X)\n",
        "        loss = self.loss_func.forward(y, self.output)\n",
        "        dout = self.loss_func.backward(y, self.output)\n",
        "        self.backward(dout)\n",
        "        return loss, self.grads\n",
        "\n",
        "\n",
        "    def predict(self, X):\n",
        "        output = self.forward(X)  \n",
        "        return output\n",
        "    \n",
        "\n",
        "    def dispGradParam(self):\n",
        "        print(self.grads)\n",
        "    \n",
        "\n",
        "    def clear_grad_param(self):\n",
        "        self.grads = []\n",
        "    \n",
        "    \n",
        "nn = NN(MSELoss())\n",
        "\n",
        "assert hasattr(nn, \"layers\")\n",
        "assert hasattr(nn, \"params\")\n",
        "assert hasattr(nn, \"grads\")\n",
        "assert hasattr(nn, \"loss_func\")\n",
        "assert isinstance(nn.loss_func, MSELoss)"
      ],
      "metadata": {
        "id": "-2OjT0NVZmBP"
      },
      "execution_count": 278,
      "outputs": []
    },
    {
      "cell_type": "code",
      "source": [
        "np.random.seed(17)\n",
        "\n",
        "X = np.random.random(size=(100, 3))\n",
        "nn = NN(MSELoss())\n",
        "\n",
        "linear1 = LinearLayer(3, 5)\n",
        "nn.add_layer(linear1)\n",
        "\n",
        "sigmoid1 = SigmoidLayer()\n",
        "nn.add_layer(sigmoid1)\n",
        "\n",
        "linear2 = LinearLayer(5, 1)\n",
        "nn.add_layer(linear2)\n",
        "\n",
        "sigmoid2 = SigmoidLayer()\n",
        "nn.add_layer(sigmoid2)\n",
        "\n",
        "output_nn = nn.forward(X)\n",
        "\n",
        "assert round(output_nn.sum()) == 65\n",
        "\n",
        "\n",
        "y = np.random.randint(0, 2, size=100).reshape(-1, 1)\n",
        "\n",
        "nn_predict = nn.predict(X)\n",
        "assert (output_nn == nn.predict(X)).all()\n",
        "\n",
        "loss, grads = nn.train_step(X, y)\n",
        "right_loss = np.array([0.24705916])\n",
        "\n",
        "assert np.isclose(loss, right_loss)\n",
        "assert grads[0] == []\n",
        "assert round(grads[1][0].sum(), 4) == 0.0394\n",
        "assert grads[2] == []\n",
        "assert round(grads[3][0].sum(), 4) == 0.0077"
      ],
      "metadata": {
        "id": "LO-Z5cQlc4KN"
      },
      "execution_count": 279,
      "outputs": []
    },
    {
      "cell_type": "markdown",
      "source": [
        "Задача 4.1"
      ],
      "metadata": {
        "id": "whY-NIjDbsBL"
      }
    },
    {
      "cell_type": "code",
      "source": [
        "def minibatch(X, y, minibatch_size):\n",
        "    X_shape = X.shape[0] \n",
        "    minibatches = [] \n",
        "    for i in range(0, X_shape, minibatch_size):\n",
        "        X_batch = X[i:i+minibatch_size]\n",
        "        y_batch = y[i:i+minibatch_size]\n",
        "        minibatches.append((X_batch, y_batch))\n",
        "    \n",
        "    return minibatches"
      ],
      "metadata": {
        "id": "zeGbHso5ft4R"
      },
      "execution_count": 280,
      "outputs": []
    },
    {
      "cell_type": "code",
      "source": [
        "np.random.seed(17)\n",
        "\n",
        "BATCH_SIZE = 33\n",
        "X = np.random.random(size=(100, 3))\n",
        "y = np.random.randint(0, 2, size=100).reshape(-1, 1)\n",
        "\n",
        "minibatches = minibatch(X, y, BATCH_SIZE)\n",
        "X_batch0, y_batch0 = minibatches[0]\n",
        "correct_y_batch0 = np.array([[0], [0], [0], [1], [1]])\n",
        "assert len(minibatches) == 4\n",
        "assert round(X_batch0.sum(), 3) == 50.216\n",
        "assert (y_batch0[:5] == correct_y_batch0).all()\n"
      ],
      "metadata": {
        "id": "nRrgP2dNb44d"
      },
      "execution_count": 281,
      "outputs": []
    },
    {
      "cell_type": "code",
      "source": [
        "def update(velocity, params, grads, learning_rate=0.001, mu=0.9):\n",
        "    \"\"\"\n",
        "    Обратите внимание на эту функцию\n",
        "    Здесь происходит чуть хитрое обновление весов\n",
        "    На семинаре поговорим об этом\n",
        "    \"\"\"\n",
        "    for v, p, g, in zip(velocity, params, reversed(grads)):\n",
        "        for i in range(len(g)):\n",
        "            v[i] = mu * v[i] + learning_rate * g[i]\n",
        "            p[i] -= v[i]\n",
        "            \n",
        "\n",
        "def plot_train_process(train_acc_list, val_acc_list, \n",
        "                       mean_train_loss_list, mean_val_loss_list):\n",
        "    fig, axes = plt.subplots(1, 2, figsize=(15, 5))\n",
        "\n",
        "    axes[0].set_title('Mean absolute error')\n",
        "    axes[1].set_title('Loss')\n",
        "    \n",
        "    axes[0].plot(train_acc_list, label='train')\n",
        "    axes[0].plot(val_acc_list, label='test')\n",
        "    axes[0].legend()\n",
        "    \n",
        "    axes[1].plot(mean_train_loss_list, label='train')\n",
        "    axes[1].plot(mean_val_loss_list, label='test')\n",
        "    axes[1].legend()\n",
        "    \n",
        "    plt.show()\n",
        "    \n",
        "    \n",
        "def check_accuracy(y_true, y_pred):\n",
        "    return np.mean(abs(y_true - y_pred))\n",
        "\n",
        "\n",
        "def train(net, X_train, y_train, minibatch_size, epoch, learning_rate, mu=0.9,\n",
        "                 verbose=True, X_val=None, y_val=None, nesterov=True, draw_each_iters=5):\n",
        "    val_loss_epoch = []\n",
        "    minibatches = minibatch(X_train, y_train, minibatch_size)\n",
        "    minibatches_val = minibatch(X_val, y_val, minibatch_size)\n",
        "\n",
        "    c = 0 \n",
        "\n",
        "    mean_train_loss_list = []\n",
        "    mean_val_loss_list = []\n",
        "    train_acc_list = []\n",
        "    val_acc_list = []\n",
        "    for n_iter in range(epoch):\n",
        "        loss_batch = []\n",
        "        val_loss_batch = []\n",
        "        velocity = []\n",
        "        for param_layer in net.params:\n",
        "            p = [np.zeros_like(param) for param in list(param_layer)]\n",
        "            velocity.append(p)\n",
        "\n",
        "        # iterate over mini batches\n",
        "        for X_mini, y_mini in minibatches:\n",
        "\n",
        "            loss, grads = net.train_step(X_mini, y_mini)\n",
        "            loss_batch.append(loss)\n",
        "            update(velocity, net.params, grads,\n",
        "                   learning_rate=learning_rate, mu=mu)\n",
        "\n",
        "        for X_mini_val, y_mini_val in minibatches_val:\n",
        "            val_loss, _ = net.train_step(X_mini, y_mini)\n",
        "            val_loss_batch.append(val_loss)\n",
        "\n",
        "\n",
        "        # accuracy of model at end of epoch after all mini batch updates   \n",
        "\n",
        "        if verbose:\n",
        "            m_train = X_train.shape[0]\n",
        "            m_val = X_val.shape[0]\n",
        "            y_train_pred = np.array([], dtype=\"int64\")\n",
        "            y_val_pred = np.array([], dtype=\"int64\")\n",
        "\n",
        "            for i in range(0, m_train, minibatch_size):\n",
        "                X_tr = X_train[i:i + minibatch_size, : ]\n",
        "                y_tr = y_train[i:i + minibatch_size, ]\n",
        "                y_train_pred = np.append(y_train_pred, net.predict(X_tr))\n",
        "\n",
        "            for i in range(0, m_val, minibatch_size):\n",
        "                X_va = X_val[i:i + minibatch_size, : ]\n",
        "                y_va = y_val[i:i + minibatch_size, ]\n",
        "                y_val_pred = np.append(y_val_pred, net.predict(X_va))\n",
        "        \n",
        "            train_acc = check_accuracy(y_train, y_train_pred)\n",
        "            val_acc = check_accuracy(y_val, y_val_pred)\n",
        "            mean_train_loss = sum(loss_batch) / float(len(loss_batch))\n",
        "            mean_val_loss = sum(val_loss_batch) / float(len(val_loss_batch))\n",
        "            \n",
        "            train_acc_list.append(train_acc)\n",
        "            val_acc_list.append(val_acc)\n",
        "            \n",
        "            mean_train_loss_list.append(mean_train_loss)\n",
        "            mean_val_loss_list.append(mean_val_loss)\n",
        "\n",
        "            # early stopping with patience = 5 on val loss\n",
        "            if len(val_loss_epoch) == 0:\n",
        "                val_loss_epoch.append(mean_val_loss)\n",
        "            else:\n",
        "                for j in val_loss_epoch[-5:]:\n",
        "                    if mean_val_loss > j:\n",
        "                        c += 1\n",
        "                    else:\n",
        "                        c = 0\n",
        "                if c > 5:\n",
        "                    print('Early stopping')\n",
        "                    return net\n",
        "                else:\n",
        "                    c = 0\n",
        "                    val_loss_epoch.append(mean_val_loss)  \n",
        "                    \n",
        "            if n_iter % draw_each_iters == 0:\n",
        "                clear_output(True)\n",
        "                plot_train_process(train_acc_list, val_acc_list, \n",
        "                                   mean_train_loss_list, mean_val_loss_list)\n",
        "    return net"
      ],
      "metadata": {
        "id": "QTiPDPwRb730"
      },
      "execution_count": 282,
      "outputs": []
    },
    {
      "cell_type": "markdown",
      "source": [
        "Пробуем обучить нейросеть на игрушечных данных"
      ],
      "metadata": {
        "id": "cf20eKtycg5N"
      }
    },
    {
      "cell_type": "code",
      "source": [
        "# Get preprocessed training and validation data\n",
        "\n",
        "X_train = np.arange(1000).reshape(250, 4) / 1e4\n",
        "y_train = X_train.sum(axis=1).reshape(-1, 1)\n",
        "\n",
        "X_test = np.arange(1000, 2000).reshape(250, 4) / 1e4\n",
        "#y_test = X_val.sum(axis=1).reshape(-1, 1) \n",
        "\n",
        "print(\"X train:\")\n",
        "print(X_train[:5])\n",
        "print(\"y train:\")\n",
        "print(y_train[:5])\n",
        "print()\n",
        "print(\"X test:\")\n",
        "print(X_test[:5])\n",
        "print(\"y test:\")\n",
        "print(y_test[:5])"
      ],
      "metadata": {
        "colab": {
          "base_uri": "https://localhost:8080/"
        },
        "id": "5genZzfKcheQ",
        "outputId": "d17568cd-2ff2-4b5c-e157-b6a836ad0fc8"
      },
      "execution_count": 283,
      "outputs": [
        {
          "output_type": "stream",
          "name": "stdout",
          "text": [
            "X train:\n",
            "[[0.     0.0001 0.0002 0.0003]\n",
            " [0.0004 0.0005 0.0006 0.0007]\n",
            " [0.0008 0.0009 0.001  0.0011]\n",
            " [0.0012 0.0013 0.0014 0.0015]\n",
            " [0.0016 0.0017 0.0018 0.0019]]\n",
            "y train:\n",
            "[[0.0006]\n",
            " [0.0022]\n",
            " [0.0038]\n",
            " [0.0054]\n",
            " [0.007 ]]\n",
            "\n",
            "X test:\n",
            "[[0.1    0.1001 0.1002 0.1003]\n",
            " [0.1004 0.1005 0.1006 0.1007]\n",
            " [0.1008 0.1009 0.101  0.1011]\n",
            " [0.1012 0.1013 0.1014 0.1015]\n",
            " [0.1016 0.1017 0.1018 0.1019]]\n",
            "y test:\n",
            "[[ 9.76202572]\n",
            " [10.44792708]\n",
            " [ 7.58728516]\n",
            " [ 9.96327334]\n",
            " [ 9.06271482]]\n"
          ]
        }
      ]
    },
    {
      "cell_type": "code",
      "source": [
        "plot_each = 15\n",
        "\n",
        "plt.scatter(X_train[::plot_each, 0], y_train[::plot_each], label='train')\n",
        "plt.scatter(X_test[::plot_each, 0], y_test[::plot_each], label='test')\n",
        "plt.legend();\n"
      ],
      "metadata": {
        "colab": {
          "base_uri": "https://localhost:8080/",
          "height": 795
        },
        "id": "8K19ZIrTclYp",
        "outputId": "f2fce2f2-3e3e-40ec-8634-4457d9e4bc8b"
      },
      "execution_count": 285,
      "outputs": [
        {
          "output_type": "error",
          "ename": "ValueError",
          "evalue": "ignored",
          "traceback": [
            "\u001b[0;31m---------------------------------------------------------------------------\u001b[0m",
            "\u001b[0;31mValueError\u001b[0m                                Traceback (most recent call last)",
            "\u001b[0;32m<ipython-input-285-ac9e93a1a246>\u001b[0m in \u001b[0;36m<cell line: 4>\u001b[0;34m()\u001b[0m\n\u001b[1;32m      2\u001b[0m \u001b[0;34m\u001b[0m\u001b[0m\n\u001b[1;32m      3\u001b[0m \u001b[0mplt\u001b[0m\u001b[0;34m.\u001b[0m\u001b[0mscatter\u001b[0m\u001b[0;34m(\u001b[0m\u001b[0mX_train\u001b[0m\u001b[0;34m[\u001b[0m\u001b[0;34m:\u001b[0m\u001b[0;34m:\u001b[0m\u001b[0mplot_each\u001b[0m\u001b[0;34m,\u001b[0m \u001b[0;36m0\u001b[0m\u001b[0;34m]\u001b[0m\u001b[0;34m,\u001b[0m \u001b[0my_train\u001b[0m\u001b[0;34m[\u001b[0m\u001b[0;34m:\u001b[0m\u001b[0;34m:\u001b[0m\u001b[0mplot_each\u001b[0m\u001b[0;34m]\u001b[0m\u001b[0;34m,\u001b[0m \u001b[0mlabel\u001b[0m\u001b[0;34m=\u001b[0m\u001b[0;34m'train'\u001b[0m\u001b[0;34m)\u001b[0m\u001b[0;34m\u001b[0m\u001b[0;34m\u001b[0m\u001b[0m\n\u001b[0;32m----> 4\u001b[0;31m \u001b[0mplt\u001b[0m\u001b[0;34m.\u001b[0m\u001b[0mscatter\u001b[0m\u001b[0;34m(\u001b[0m\u001b[0mX_test\u001b[0m\u001b[0;34m[\u001b[0m\u001b[0;34m:\u001b[0m\u001b[0;34m:\u001b[0m\u001b[0;36m15\u001b[0m\u001b[0;34m,\u001b[0m \u001b[0;36m0\u001b[0m\u001b[0;34m]\u001b[0m\u001b[0;34m,\u001b[0m \u001b[0my_test\u001b[0m\u001b[0;34m[\u001b[0m\u001b[0;34m:\u001b[0m\u001b[0;34m:\u001b[0m\u001b[0;36m15\u001b[0m\u001b[0;34m]\u001b[0m\u001b[0;34m,\u001b[0m \u001b[0mlabel\u001b[0m\u001b[0;34m=\u001b[0m\u001b[0;34m'test'\u001b[0m\u001b[0;34m)\u001b[0m\u001b[0;34m\u001b[0m\u001b[0;34m\u001b[0m\u001b[0m\n\u001b[0m\u001b[1;32m      5\u001b[0m \u001b[0mplt\u001b[0m\u001b[0;34m.\u001b[0m\u001b[0mlegend\u001b[0m\u001b[0;34m(\u001b[0m\u001b[0;34m)\u001b[0m\u001b[0;34m;\u001b[0m\u001b[0;34m\u001b[0m\u001b[0;34m\u001b[0m\u001b[0m\n",
            "\u001b[0;32m/usr/local/lib/python3.10/dist-packages/matplotlib/pyplot.py\u001b[0m in \u001b[0;36mscatter\u001b[0;34m(x, y, s, c, marker, cmap, norm, vmin, vmax, alpha, linewidths, edgecolors, plotnonfinite, data, **kwargs)\u001b[0m\n\u001b[1;32m   2860\u001b[0m         \u001b[0mvmin\u001b[0m\u001b[0;34m=\u001b[0m\u001b[0;32mNone\u001b[0m\u001b[0;34m,\u001b[0m \u001b[0mvmax\u001b[0m\u001b[0;34m=\u001b[0m\u001b[0;32mNone\u001b[0m\u001b[0;34m,\u001b[0m \u001b[0malpha\u001b[0m\u001b[0;34m=\u001b[0m\u001b[0;32mNone\u001b[0m\u001b[0;34m,\u001b[0m \u001b[0mlinewidths\u001b[0m\u001b[0;34m=\u001b[0m\u001b[0;32mNone\u001b[0m\u001b[0;34m,\u001b[0m \u001b[0;34m*\u001b[0m\u001b[0;34m,\u001b[0m\u001b[0;34m\u001b[0m\u001b[0;34m\u001b[0m\u001b[0m\n\u001b[1;32m   2861\u001b[0m         edgecolors=None, plotnonfinite=False, data=None, **kwargs):\n\u001b[0;32m-> 2862\u001b[0;31m     __ret = gca().scatter(\n\u001b[0m\u001b[1;32m   2863\u001b[0m         \u001b[0mx\u001b[0m\u001b[0;34m,\u001b[0m \u001b[0my\u001b[0m\u001b[0;34m,\u001b[0m \u001b[0ms\u001b[0m\u001b[0;34m=\u001b[0m\u001b[0ms\u001b[0m\u001b[0;34m,\u001b[0m \u001b[0mc\u001b[0m\u001b[0;34m=\u001b[0m\u001b[0mc\u001b[0m\u001b[0;34m,\u001b[0m \u001b[0mmarker\u001b[0m\u001b[0;34m=\u001b[0m\u001b[0mmarker\u001b[0m\u001b[0;34m,\u001b[0m \u001b[0mcmap\u001b[0m\u001b[0;34m=\u001b[0m\u001b[0mcmap\u001b[0m\u001b[0;34m,\u001b[0m \u001b[0mnorm\u001b[0m\u001b[0;34m=\u001b[0m\u001b[0mnorm\u001b[0m\u001b[0;34m,\u001b[0m\u001b[0;34m\u001b[0m\u001b[0;34m\u001b[0m\u001b[0m\n\u001b[1;32m   2864\u001b[0m         \u001b[0mvmin\u001b[0m\u001b[0;34m=\u001b[0m\u001b[0mvmin\u001b[0m\u001b[0;34m,\u001b[0m \u001b[0mvmax\u001b[0m\u001b[0;34m=\u001b[0m\u001b[0mvmax\u001b[0m\u001b[0;34m,\u001b[0m \u001b[0malpha\u001b[0m\u001b[0;34m=\u001b[0m\u001b[0malpha\u001b[0m\u001b[0;34m,\u001b[0m \u001b[0mlinewidths\u001b[0m\u001b[0;34m=\u001b[0m\u001b[0mlinewidths\u001b[0m\u001b[0;34m,\u001b[0m\u001b[0;34m\u001b[0m\u001b[0;34m\u001b[0m\u001b[0m\n",
            "\u001b[0;32m/usr/local/lib/python3.10/dist-packages/matplotlib/__init__.py\u001b[0m in \u001b[0;36minner\u001b[0;34m(ax, data, *args, **kwargs)\u001b[0m\n\u001b[1;32m   1440\u001b[0m     \u001b[0;32mdef\u001b[0m \u001b[0minner\u001b[0m\u001b[0;34m(\u001b[0m\u001b[0max\u001b[0m\u001b[0;34m,\u001b[0m \u001b[0;34m*\u001b[0m\u001b[0margs\u001b[0m\u001b[0;34m,\u001b[0m \u001b[0mdata\u001b[0m\u001b[0;34m=\u001b[0m\u001b[0;32mNone\u001b[0m\u001b[0;34m,\u001b[0m \u001b[0;34m**\u001b[0m\u001b[0mkwargs\u001b[0m\u001b[0;34m)\u001b[0m\u001b[0;34m:\u001b[0m\u001b[0;34m\u001b[0m\u001b[0;34m\u001b[0m\u001b[0m\n\u001b[1;32m   1441\u001b[0m         \u001b[0;32mif\u001b[0m \u001b[0mdata\u001b[0m \u001b[0;32mis\u001b[0m \u001b[0;32mNone\u001b[0m\u001b[0;34m:\u001b[0m\u001b[0;34m\u001b[0m\u001b[0;34m\u001b[0m\u001b[0m\n\u001b[0;32m-> 1442\u001b[0;31m             \u001b[0;32mreturn\u001b[0m \u001b[0mfunc\u001b[0m\u001b[0;34m(\u001b[0m\u001b[0max\u001b[0m\u001b[0;34m,\u001b[0m \u001b[0;34m*\u001b[0m\u001b[0mmap\u001b[0m\u001b[0;34m(\u001b[0m\u001b[0msanitize_sequence\u001b[0m\u001b[0;34m,\u001b[0m \u001b[0margs\u001b[0m\u001b[0;34m)\u001b[0m\u001b[0;34m,\u001b[0m \u001b[0;34m**\u001b[0m\u001b[0mkwargs\u001b[0m\u001b[0;34m)\u001b[0m\u001b[0;34m\u001b[0m\u001b[0;34m\u001b[0m\u001b[0m\n\u001b[0m\u001b[1;32m   1443\u001b[0m \u001b[0;34m\u001b[0m\u001b[0m\n\u001b[1;32m   1444\u001b[0m         \u001b[0mbound\u001b[0m \u001b[0;34m=\u001b[0m \u001b[0mnew_sig\u001b[0m\u001b[0;34m.\u001b[0m\u001b[0mbind\u001b[0m\u001b[0;34m(\u001b[0m\u001b[0max\u001b[0m\u001b[0;34m,\u001b[0m \u001b[0;34m*\u001b[0m\u001b[0margs\u001b[0m\u001b[0;34m,\u001b[0m \u001b[0;34m**\u001b[0m\u001b[0mkwargs\u001b[0m\u001b[0;34m)\u001b[0m\u001b[0;34m\u001b[0m\u001b[0;34m\u001b[0m\u001b[0m\n",
            "\u001b[0;32m/usr/local/lib/python3.10/dist-packages/matplotlib/axes/_axes.py\u001b[0m in \u001b[0;36mscatter\u001b[0;34m(self, x, y, s, c, marker, cmap, norm, vmin, vmax, alpha, linewidths, edgecolors, plotnonfinite, **kwargs)\u001b[0m\n\u001b[1;32m   4582\u001b[0m         \u001b[0my\u001b[0m \u001b[0;34m=\u001b[0m \u001b[0mnp\u001b[0m\u001b[0;34m.\u001b[0m\u001b[0mma\u001b[0m\u001b[0;34m.\u001b[0m\u001b[0mravel\u001b[0m\u001b[0;34m(\u001b[0m\u001b[0my\u001b[0m\u001b[0;34m)\u001b[0m\u001b[0;34m\u001b[0m\u001b[0;34m\u001b[0m\u001b[0m\n\u001b[1;32m   4583\u001b[0m         \u001b[0;32mif\u001b[0m \u001b[0mx\u001b[0m\u001b[0;34m.\u001b[0m\u001b[0msize\u001b[0m \u001b[0;34m!=\u001b[0m \u001b[0my\u001b[0m\u001b[0;34m.\u001b[0m\u001b[0msize\u001b[0m\u001b[0;34m:\u001b[0m\u001b[0;34m\u001b[0m\u001b[0;34m\u001b[0m\u001b[0m\n\u001b[0;32m-> 4584\u001b[0;31m             \u001b[0;32mraise\u001b[0m \u001b[0mValueError\u001b[0m\u001b[0;34m(\u001b[0m\u001b[0;34m\"x and y must be the same size\"\u001b[0m\u001b[0;34m)\u001b[0m\u001b[0;34m\u001b[0m\u001b[0;34m\u001b[0m\u001b[0m\n\u001b[0m\u001b[1;32m   4585\u001b[0m \u001b[0;34m\u001b[0m\u001b[0m\n\u001b[1;32m   4586\u001b[0m         \u001b[0;32mif\u001b[0m \u001b[0ms\u001b[0m \u001b[0;32mis\u001b[0m \u001b[0;32mNone\u001b[0m\u001b[0;34m:\u001b[0m\u001b[0;34m\u001b[0m\u001b[0;34m\u001b[0m\u001b[0m\n",
            "\u001b[0;31mValueError\u001b[0m: x and y must be the same size"
          ]
        },
        {
          "output_type": "display_data",
          "data": {
            "text/plain": [
              "<Figure size 640x480 with 1 Axes>"
            ],
            "image/png": "[encoded data removed]"
          },
          "metadata": {}
        }
      ]
    },
    {
      "cell_type": "code",
      "source": [
        "# define neural net\n",
        "model = NN(MSELoss())\n",
        "\n",
        "# add some layers\n",
        "model.add_layer(LinearLayer(4, 1))\n",
        "\n",
        "#model = train(model, X_train, y_train, minibatch_size=10, epoch=100, learning_rate=0.01, X_val=X_val, y_val=y_val, verbose=True)\n",
        "\n",
        "model = train(model, X_train, y_train, minibatch_size=10, epoch=100,\n",
        "           learning_rate=0.01, X_val=X_test, y_val=y_test, verbose=True)"
      ],
      "metadata": {
        "id": "5kfF2adJcpFl"
      },
      "execution_count": null,
      "outputs": []
    },
    {
      "cell_type": "markdown",
      "source": [
        "Задача 5. Обучить нейросеть на реальных данных"
      ],
      "metadata": {
        "id": "SiYEj-kfkIRh"
      }
    },
    {
      "cell_type": "code",
      "source": [
        "import pandas as pd\n",
        "\n",
        "\n",
        "DATA_URL = \"https://raw.githubusercontent.com/stedy/Machine-Learning-with-R-datasets/master/insurance.csv\"\n",
        "data = pd.read_csv(DATA_URL)"
      ],
      "metadata": {
        "id": "VclVJl43kMUI"
      },
      "execution_count": 286,
      "outputs": []
    },
    {
      "cell_type": "code",
      "source": [
        "data.head()"
      ],
      "metadata": {
        "colab": {
          "base_uri": "https://localhost:8080/",
          "height": 206
        },
        "id": "29rzTRkkkPPx",
        "outputId": "440462c1-d95f-4af7-e7f8-577b04d94b90"
      },
      "execution_count": 287,
      "outputs": [
        {
          "output_type": "execute_result",
          "data": {
            "text/plain": [
              "   age     sex     bmi  children smoker     region      charges\n",
              "0   19  female  27.900         0    yes  southwest  16884.92400\n",
              "1   18    male  33.770         1     no  southeast   1725.55230\n",
              "2   28    male  33.000         3     no  southeast   4449.46200\n",
              "3   33    male  22.705         0     no  northwest  21984.47061\n",
              "4   32    male  28.880         0     no  northwest   3866.85520"
            ],
            "text/html": [
              "\n",
              "  <div id=\"df-71dbd44d-c5b0-4f02-82fc-06073e2ee26e\">\n",
              "    <div class=\"colab-df-container\">\n",
              "      <div>\n",
              "<style scoped>\n",
              "    .dataframe tbody tr th:only-of-type {\n",
              "        vertical-align: middle;\n",
              "    }\n",
              "\n",
              "    .dataframe tbody tr th {\n",
              "        vertical-align: top;\n",
              "    }\n",
              "\n",
              "    .dataframe thead th {\n",
              "        text-align: right;\n",
              "    }\n",
              "</style>\n",
              "<table border=\"1\" class=\"dataframe\">\n",
              "  <thead>\n",
              "    <tr style=\"text-align: right;\">\n",
              "      <th></th>\n",
              "      <th>age</th>\n",
              "      <th>sex</th>\n",
              "      <th>bmi</th>\n",
              "      <th>children</th>\n",
              "      <th>smoker</th>\n",
              "      <th>region</th>\n",
              "      <th>charges</th>\n",
              "    </tr>\n",
              "  </thead>\n",
              "  <tbody>\n",
              "    <tr>\n",
              "      <th>0</th>\n",
              "      <td>19</td>\n",
              "      <td>female</td>\n",
              "      <td>27.900</td>\n",
              "      <td>0</td>\n",
              "      <td>yes</td>\n",
              "      <td>southwest</td>\n",
              "      <td>16884.92400</td>\n",
              "    </tr>\n",
              "    <tr>\n",
              "      <th>1</th>\n",
              "      <td>18</td>\n",
              "      <td>male</td>\n",
              "      <td>33.770</td>\n",
              "      <td>1</td>\n",
              "      <td>no</td>\n",
              "      <td>southeast</td>\n",
              "      <td>1725.55230</td>\n",
              "    </tr>\n",
              "    <tr>\n",
              "      <th>2</th>\n",
              "      <td>28</td>\n",
              "      <td>male</td>\n",
              "      <td>33.000</td>\n",
              "      <td>3</td>\n",
              "      <td>no</td>\n",
              "      <td>southeast</td>\n",
              "      <td>4449.46200</td>\n",
              "    </tr>\n",
              "    <tr>\n",
              "      <th>3</th>\n",
              "      <td>33</td>\n",
              "      <td>male</td>\n",
              "      <td>22.705</td>\n",
              "      <td>0</td>\n",
              "      <td>no</td>\n",
              "      <td>northwest</td>\n",
              "      <td>21984.47061</td>\n",
              "    </tr>\n",
              "    <tr>\n",
              "      <th>4</th>\n",
              "      <td>32</td>\n",
              "      <td>male</td>\n",
              "      <td>28.880</td>\n",
              "      <td>0</td>\n",
              "      <td>no</td>\n",
              "      <td>northwest</td>\n",
              "      <td>3866.85520</td>\n",
              "    </tr>\n",
              "  </tbody>\n",
              "</table>\n",
              "</div>\n",
              "      <button class=\"colab-df-convert\" onclick=\"convertToInteractive('df-71dbd44d-c5b0-4f02-82fc-06073e2ee26e')\"\n",
              "              title=\"Convert this dataframe to an interactive table.\"\n",
              "              style=\"display:none;\">\n",
              "        \n",
              "  <svg xmlns=\"http://www.w3.org/2000/svg\" height=\"24px\"viewBox=\"0 0 24 24\"\n",
              "       width=\"24px\">\n",
              "    <path d=\"M0 0h24v24H0V0z\" fill=\"none\"/>\n",
              "    <path d=\"M18.56 5.44l.94 2.06.94-2.06 2.06-.94-2.06-.94-.94-2.06-.94 2.06-2.06.94zm-11 1L8.5 8.5l.94-2.06 2.06-.94-2.06-.94L8.5 2.5l-.94 2.06-2.06.94zm10 10l.94 2.06.94-2.06 2.06-.94-2.06-.94-.94-2.06-.94 2.06-2.06.94z\"/><path d=\"M17.41 7.96l-1.37-1.37c-.4-.4-.92-.59-1.43-.59-.52 0-1.04.2-1.43.59L10.3 9.45l-7.72 7.72c-.78.78-.78 2.05 0 2.83L4 21.41c.39.39.9.59 1.41.59.51 0 1.02-.2 1.41-.59l7.78-7.78 2.81-2.81c.8-.78.8-2.07 0-2.86zM5.41 20L4 18.59l7.72-7.72 1.47 1.35L5.41 20z\"/>\n",
              "  </svg>\n",
              "      </button>\n",
              "      \n",
              "  <style>\n",
              "    .colab-df-container {\n",
              "      display:flex;\n",
              "      flex-wrap:wrap;\n",
              "      gap: 12px;\n",
              "    }\n",
              "\n",
              "    .colab-df-convert {\n",
              "      background-color: #E8F0FE;\n",
              "      border: none;\n",
              "      border-radius: 50%;\n",
              "      cursor: pointer;\n",
              "      display: none;\n",
              "      fill: #1967D2;\n",
              "      height: 32px;\n",
              "      padding: 0 0 0 0;\n",
              "      width: 32px;\n",
              "    }\n",
              "\n",
              "    .colab-df-convert:hover {\n",
              "      background-color: #E2EBFA;\n",
              "      box-shadow: 0px 1px 2px rgba(60, 64, 67, 0.3), 0px 1px 3px 1px rgba(60, 64, 67, 0.15);\n",
              "      fill: #174EA6;\n",
              "    }\n",
              "\n",
              "    [theme=dark] .colab-df-convert {\n",
              "      background-color: #3B4455;\n",
              "      fill: #D2E3FC;\n",
              "    }\n",
              "\n",
              "    [theme=dark] .colab-df-convert:hover {\n",
              "      background-color: #434B5C;\n",
              "      box-shadow: 0px 1px 3px 1px rgba(0, 0, 0, 0.15);\n",
              "      filter: drop-shadow(0px 1px 2px rgba(0, 0, 0, 0.3));\n",
              "      fill: #FFFFFF;\n",
              "    }\n",
              "  </style>\n",
              "\n",
              "      <script>\n",
              "        const buttonEl =\n",
              "          document.querySelector('#df-71dbd44d-c5b0-4f02-82fc-06073e2ee26e button.colab-df-convert');\n",
              "        buttonEl.style.display =\n",
              "          google.colab.kernel.accessAllowed ? 'block' : 'none';\n",
              "\n",
              "        async function convertToInteractive(key) {\n",
              "          const element = document.querySelector('#df-71dbd44d-c5b0-4f02-82fc-06073e2ee26e');\n",
              "          const dataTable =\n",
              "            await google.colab.kernel.invokeFunction('convertToInteractive',\n",
              "                                                     [key], {});\n",
              "          if (!dataTable) return;\n",
              "\n",
              "          const docLinkHtml = 'Like what you see? Visit the ' +\n",
              "            '<a target=\"_blank\" href=https://colab.research.google.com/notebooks/data_table.ipynb>data table notebook</a>'\n",
              "            + ' to learn more about interactive tables.';\n",
              "          element.innerHTML = '';\n",
              "          dataTable['output_type'] = 'display_data';\n",
              "          await google.colab.output.renderOutput(dataTable, element);\n",
              "          const docLink = document.createElement('div');\n",
              "          docLink.innerHTML = docLinkHtml;\n",
              "          element.appendChild(docLink);\n",
              "        }\n",
              "      </script>\n",
              "    </div>\n",
              "  </div>\n",
              "  "
            ]
          },
          "metadata": {},
          "execution_count": 287
        }
      ]
    },
    {
      "cell_type": "code",
      "source": [
        "cat_columns = ['sex', 'smoker', 'region']\n",
        "dummy_data = pd.get_dummies(data[cat_columns])\n",
        "data.drop(cat_columns, axis=1, inplace=True)\n",
        "data = pd.concat([data, dummy_data], axis=1)"
      ],
      "metadata": {
        "id": "KDYHFUeTkRak"
      },
      "execution_count": 288,
      "outputs": []
    },
    {
      "cell_type": "code",
      "source": [
        "data.head()"
      ],
      "metadata": {
        "colab": {
          "base_uri": "https://localhost:8080/",
          "height": 206
        },
        "id": "2gR68YakkTQ4",
        "outputId": "b11d2f59-2f94-4384-9de4-45cffbbbf97f"
      },
      "execution_count": 289,
      "outputs": [
        {
          "output_type": "execute_result",
          "data": {
            "text/plain": [
              "   age     bmi  children      charges  sex_female  sex_male  smoker_no  \\\n",
              "0   19  27.900         0  16884.92400           1         0          0   \n",
              "1   18  33.770         1   1725.55230           0         1          1   \n",
              "2   28  33.000         3   4449.46200           0         1          1   \n",
              "3   33  22.705         0  21984.47061           0         1          1   \n",
              "4   32  28.880         0   3866.85520           0         1          1   \n",
              "\n",
              "   smoker_yes  region_northeast  region_northwest  region_southeast  \\\n",
              "0           1                 0                 0                 0   \n",
              "1           0                 0                 0                 1   \n",
              "2           0                 0                 0                 1   \n",
              "3           0                 0                 1                 0   \n",
              "4           0                 0                 1                 0   \n",
              "\n",
              "   region_southwest  \n",
              "0                 1  \n",
              "1                 0  \n",
              "2                 0  \n",
              "3                 0  \n",
              "4                 0  "
            ],
            "text/html": [
              "\n",
              "  <div id=\"df-5100ee86-4f1a-4751-a192-257f9a16d05a\">\n",
              "    <div class=\"colab-df-container\">\n",
              "      <div>\n",
              "<style scoped>\n",
              "    .dataframe tbody tr th:only-of-type {\n",
              "        vertical-align: middle;\n",
              "    }\n",
              "\n",
              "    .dataframe tbody tr th {\n",
              "        vertical-align: top;\n",
              "    }\n",
              "\n",
              "    .dataframe thead th {\n",
              "        text-align: right;\n",
              "    }\n",
              "</style>\n",
              "<table border=\"1\" class=\"dataframe\">\n",
              "  <thead>\n",
              "    <tr style=\"text-align: right;\">\n",
              "      <th></th>\n",
              "      <th>age</th>\n",
              "      <th>bmi</th>\n",
              "      <th>children</th>\n",
              "      <th>charges</th>\n",
              "      <th>sex_female</th>\n",
              "      <th>sex_male</th>\n",
              "      <th>smoker_no</th>\n",
              "      <th>smoker_yes</th>\n",
              "      <th>region_northeast</th>\n",
              "      <th>region_northwest</th>\n",
              "      <th>region_southeast</th>\n",
              "      <th>region_southwest</th>\n",
              "    </tr>\n",
              "  </thead>\n",
              "  <tbody>\n",
              "    <tr>\n",
              "      <th>0</th>\n",
              "      <td>19</td>\n",
              "      <td>27.900</td>\n",
              "      <td>0</td>\n",
              "      <td>16884.92400</td>\n",
              "      <td>1</td>\n",
              "      <td>0</td>\n",
              "      <td>0</td>\n",
              "      <td>1</td>\n",
              "      <td>0</td>\n",
              "      <td>0</td>\n",
              "      <td>0</td>\n",
              "      <td>1</td>\n",
              "    </tr>\n",
              "    <tr>\n",
              "      <th>1</th>\n",
              "      <td>18</td>\n",
              "      <td>33.770</td>\n",
              "      <td>1</td>\n",
              "      <td>1725.55230</td>\n",
              "      <td>0</td>\n",
              "      <td>1</td>\n",
              "      <td>1</td>\n",
              "      <td>0</td>\n",
              "      <td>0</td>\n",
              "      <td>0</td>\n",
              "      <td>1</td>\n",
              "      <td>0</td>\n",
              "    </tr>\n",
              "    <tr>\n",
              "      <th>2</th>\n",
              "      <td>28</td>\n",
              "      <td>33.000</td>\n",
              "      <td>3</td>\n",
              "      <td>4449.46200</td>\n",
              "      <td>0</td>\n",
              "      <td>1</td>\n",
              "      <td>1</td>\n",
              "      <td>0</td>\n",
              "      <td>0</td>\n",
              "      <td>0</td>\n",
              "      <td>1</td>\n",
              "      <td>0</td>\n",
              "    </tr>\n",
              "    <tr>\n",
              "      <th>3</th>\n",
              "      <td>33</td>\n",
              "      <td>22.705</td>\n",
              "      <td>0</td>\n",
              "      <td>21984.47061</td>\n",
              "      <td>0</td>\n",
              "      <td>1</td>\n",
              "      <td>1</td>\n",
              "      <td>0</td>\n",
              "      <td>0</td>\n",
              "      <td>1</td>\n",
              "      <td>0</td>\n",
              "      <td>0</td>\n",
              "    </tr>\n",
              "    <tr>\n",
              "      <th>4</th>\n",
              "      <td>32</td>\n",
              "      <td>28.880</td>\n",
              "      <td>0</td>\n",
              "      <td>3866.85520</td>\n",
              "      <td>0</td>\n",
              "      <td>1</td>\n",
              "      <td>1</td>\n",
              "      <td>0</td>\n",
              "      <td>0</td>\n",
              "      <td>1</td>\n",
              "      <td>0</td>\n",
              "      <td>0</td>\n",
              "    </tr>\n",
              "  </tbody>\n",
              "</table>\n",
              "</div>\n",
              "      <button class=\"colab-df-convert\" onclick=\"convertToInteractive('df-5100ee86-4f1a-4751-a192-257f9a16d05a')\"\n",
              "              title=\"Convert this dataframe to an interactive table.\"\n",
              "              style=\"display:none;\">\n",
              "        \n",
              "  <svg xmlns=\"http://www.w3.org/2000/svg\" height=\"24px\"viewBox=\"0 0 24 24\"\n",
              "       width=\"24px\">\n",
              "    <path d=\"M0 0h24v24H0V0z\" fill=\"none\"/>\n",
              "    <path d=\"M18.56 5.44l.94 2.06.94-2.06 2.06-.94-2.06-.94-.94-2.06-.94 2.06-2.06.94zm-11 1L8.5 8.5l.94-2.06 2.06-.94-2.06-.94L8.5 2.5l-.94 2.06-2.06.94zm10 10l.94 2.06.94-2.06 2.06-.94-2.06-.94-.94-2.06-.94 2.06-2.06.94z\"/><path d=\"M17.41 7.96l-1.37-1.37c-.4-.4-.92-.59-1.43-.59-.52 0-1.04.2-1.43.59L10.3 9.45l-7.72 7.72c-.78.78-.78 2.05 0 2.83L4 21.41c.39.39.9.59 1.41.59.51 0 1.02-.2 1.41-.59l7.78-7.78 2.81-2.81c.8-.78.8-2.07 0-2.86zM5.41 20L4 18.59l7.72-7.72 1.47 1.35L5.41 20z\"/>\n",
              "  </svg>\n",
              "      </button>\n",
              "      \n",
              "  <style>\n",
              "    .colab-df-container {\n",
              "      display:flex;\n",
              "      flex-wrap:wrap;\n",
              "      gap: 12px;\n",
              "    }\n",
              "\n",
              "    .colab-df-convert {\n",
              "      background-color: #E8F0FE;\n",
              "      border: none;\n",
              "      border-radius: 50%;\n",
              "      cursor: pointer;\n",
              "      display: none;\n",
              "      fill: #1967D2;\n",
              "      height: 32px;\n",
              "      padding: 0 0 0 0;\n",
              "      width: 32px;\n",
              "    }\n",
              "\n",
              "    .colab-df-convert:hover {\n",
              "      background-color: #E2EBFA;\n",
              "      box-shadow: 0px 1px 2px rgba(60, 64, 67, 0.3), 0px 1px 3px 1px rgba(60, 64, 67, 0.15);\n",
              "      fill: #174EA6;\n",
              "    }\n",
              "\n",
              "    [theme=dark] .colab-df-convert {\n",
              "      background-color: #3B4455;\n",
              "      fill: #D2E3FC;\n",
              "    }\n",
              "\n",
              "    [theme=dark] .colab-df-convert:hover {\n",
              "      background-color: #434B5C;\n",
              "      box-shadow: 0px 1px 3px 1px rgba(0, 0, 0, 0.15);\n",
              "      filter: drop-shadow(0px 1px 2px rgba(0, 0, 0, 0.3));\n",
              "      fill: #FFFFFF;\n",
              "    }\n",
              "  </style>\n",
              "\n",
              "      <script>\n",
              "        const buttonEl =\n",
              "          document.querySelector('#df-5100ee86-4f1a-4751-a192-257f9a16d05a button.colab-df-convert');\n",
              "        buttonEl.style.display =\n",
              "          google.colab.kernel.accessAllowed ? 'block' : 'none';\n",
              "\n",
              "        async function convertToInteractive(key) {\n",
              "          const element = document.querySelector('#df-5100ee86-4f1a-4751-a192-257f9a16d05a');\n",
              "          const dataTable =\n",
              "            await google.colab.kernel.invokeFunction('convertToInteractive',\n",
              "                                                     [key], {});\n",
              "          if (!dataTable) return;\n",
              "\n",
              "          const docLinkHtml = 'Like what you see? Visit the ' +\n",
              "            '<a target=\"_blank\" href=https://colab.research.google.com/notebooks/data_table.ipynb>data table notebook</a>'\n",
              "            + ' to learn more about interactive tables.';\n",
              "          element.innerHTML = '';\n",
              "          dataTable['output_type'] = 'display_data';\n",
              "          await google.colab.output.renderOutput(dataTable, element);\n",
              "          const docLink = document.createElement('div');\n",
              "          docLink.innerHTML = docLinkHtml;\n",
              "          element.appendChild(docLink);\n",
              "        }\n",
              "      </script>\n",
              "    </div>\n",
              "  </div>\n",
              "  "
            ]
          },
          "metadata": {},
          "execution_count": 289
        }
      ]
    },
    {
      "cell_type": "code",
      "source": [
        "data['charges'].hist();"
      ],
      "metadata": {
        "colab": {
          "base_uri": "https://localhost:8080/",
          "height": 430
        },
        "id": "ULmTtgsxkVRD",
        "outputId": "85add544-3057-471f-a1c4-3c32e35d2764"
      },
      "execution_count": 290,
      "outputs": [
        {
          "output_type": "display_data",
          "data": {
            "text/plain": [
              "<Figure size 640x480 with 1 Axes>"
            ],
            "image/png": "[encoded data removed]"
          },
          "metadata": {}
        }
      ]
    },
    {
      "cell_type": "code",
      "source": [
        "data['charges_log'] = np.log(data['charges'])"
      ],
      "metadata": {
        "id": "9fgyHnqkkZP4"
      },
      "execution_count": 292,
      "outputs": []
    },
    {
      "cell_type": "code",
      "source": [
        "data['charges_log'].hist();"
      ],
      "metadata": {
        "colab": {
          "base_uri": "https://localhost:8080/",
          "height": 430
        },
        "id": "a_49mTQGka-z",
        "outputId": "7991b5be-283f-4d0f-dc57-0e20a9ae59b0"
      },
      "execution_count": 293,
      "outputs": [
        {
          "output_type": "display_data",
          "data": {
            "text/plain": [
              "<Figure size 640x480 with 1 Axes>"
            ],
            "image/png": "[encoded data removed]"
          },
          "metadata": {}
        }
      ]
    },
    {
      "cell_type": "code",
      "source": [
        "data.drop(['charges'], axis=1, inplace=True)"
      ],
      "metadata": {
        "id": "6Am566c-kc81"
      },
      "execution_count": 294,
      "outputs": []
    },
    {
      "cell_type": "code",
      "source": [
        "def standart_scale_feature(feature_array):\n",
        "    mean = np.mean(feature_array)\n",
        "    std = np.std(feature_array)\n",
        "    output = (feature_array - mean) / std\n",
        "    return output"
      ],
      "metadata": {
        "id": "RrlO98IRkfqT"
      },
      "execution_count": 295,
      "outputs": []
    },
    {
      "cell_type": "code",
      "source": [
        "num_features = [\"age\", \"bmi\", \"children\"]\n",
        "for feature in num_features:\n",
        "    data[feature] = standart_scale_feature(data[feature])"
      ],
      "metadata": {
        "id": "yKFOxiy3kh1A"
      },
      "execution_count": 296,
      "outputs": []
    },
    {
      "cell_type": "code",
      "source": [
        "data.head()"
      ],
      "metadata": {
        "colab": {
          "base_uri": "https://localhost:8080/",
          "height": 250
        },
        "id": "6ha6bRKFkjTo",
        "outputId": "5226006a-05d8-47e4-e5bc-90db520caa06"
      },
      "execution_count": 297,
      "outputs": [
        {
          "output_type": "execute_result",
          "data": {
            "text/plain": [
              "        age       bmi  children  sex_female  sex_male  smoker_no  smoker_yes  \\\n",
              "0 -1.438764 -0.453320 -0.908614           1         0          0           1   \n",
              "1 -1.509965  0.509621 -0.078767           0         1          1           0   \n",
              "2 -0.797954  0.383307  1.580926           0         1          1           0   \n",
              "3 -0.441948 -1.305531 -0.908614           0         1          1           0   \n",
              "4 -0.513149 -0.292556 -0.908614           0         1          1           0   \n",
              "\n",
              "   region_northeast  region_northwest  region_southeast  region_southwest  \\\n",
              "0                 0                 0                 0                 1   \n",
              "1                 0                 0                 1                 0   \n",
              "2                 0                 0                 1                 0   \n",
              "3                 0                 1                 0                 0   \n",
              "4                 0                 1                 0                 0   \n",
              "\n",
              "   charges_log  \n",
              "0     9.734176  \n",
              "1     7.453302  \n",
              "2     8.400538  \n",
              "3     9.998092  \n",
              "4     8.260197  "
            ],
            "text/html": [
              "\n",
              "  <div id=\"df-6ec7f53d-2482-4646-aa23-8e1a92446b6b\">\n",
              "    <div class=\"colab-df-container\">\n",
              "      <div>\n",
              "<style scoped>\n",
              "    .dataframe tbody tr th:only-of-type {\n",
              "        vertical-align: middle;\n",
              "    }\n",
              "\n",
              "    .dataframe tbody tr th {\n",
              "        vertical-align: top;\n",
              "    }\n",
              "\n",
              "    .dataframe thead th {\n",
              "        text-align: right;\n",
              "    }\n",
              "</style>\n",
              "<table border=\"1\" class=\"dataframe\">\n",
              "  <thead>\n",
              "    <tr style=\"text-align: right;\">\n",
              "      <th></th>\n",
              "      <th>age</th>\n",
              "      <th>bmi</th>\n",
              "      <th>children</th>\n",
              "      <th>sex_female</th>\n",
              "      <th>sex_male</th>\n",
              "      <th>smoker_no</th>\n",
              "      <th>smoker_yes</th>\n",
              "      <th>region_northeast</th>\n",
              "      <th>region_northwest</th>\n",
              "      <th>region_southeast</th>\n",
              "      <th>region_southwest</th>\n",
              "      <th>charges_log</th>\n",
              "    </tr>\n",
              "  </thead>\n",
              "  <tbody>\n",
              "    <tr>\n",
              "      <th>0</th>\n",
              "      <td>-1.438764</td>\n",
              "      <td>-0.453320</td>\n",
              "      <td>-0.908614</td>\n",
              "      <td>1</td>\n",
              "      <td>0</td>\n",
              "      <td>0</td>\n",
              "      <td>1</td>\n",
              "      <td>0</td>\n",
              "      <td>0</td>\n",
              "      <td>0</td>\n",
              "      <td>1</td>\n",
              "      <td>9.734176</td>\n",
              "    </tr>\n",
              "    <tr>\n",
              "      <th>1</th>\n",
              "      <td>-1.509965</td>\n",
              "      <td>0.509621</td>\n",
              "      <td>-0.078767</td>\n",
              "      <td>0</td>\n",
              "      <td>1</td>\n",
              "      <td>1</td>\n",
              "      <td>0</td>\n",
              "      <td>0</td>\n",
              "      <td>0</td>\n",
              "      <td>1</td>\n",
              "      <td>0</td>\n",
              "      <td>7.453302</td>\n",
              "    </tr>\n",
              "    <tr>\n",
              "      <th>2</th>\n",
              "      <td>-0.797954</td>\n",
              "      <td>0.383307</td>\n",
              "      <td>1.580926</td>\n",
              "      <td>0</td>\n",
              "      <td>1</td>\n",
              "      <td>1</td>\n",
              "      <td>0</td>\n",
              "      <td>0</td>\n",
              "      <td>0</td>\n",
              "      <td>1</td>\n",
              "      <td>0</td>\n",
              "      <td>8.400538</td>\n",
              "    </tr>\n",
              "    <tr>\n",
              "      <th>3</th>\n",
              "      <td>-0.441948</td>\n",
              "      <td>-1.305531</td>\n",
              "      <td>-0.908614</td>\n",
              "      <td>0</td>\n",
              "      <td>1</td>\n",
              "      <td>1</td>\n",
              "      <td>0</td>\n",
              "      <td>0</td>\n",
              "      <td>1</td>\n",
              "      <td>0</td>\n",
              "      <td>0</td>\n",
              "      <td>9.998092</td>\n",
              "    </tr>\n",
              "    <tr>\n",
              "      <th>4</th>\n",
              "      <td>-0.513149</td>\n",
              "      <td>-0.292556</td>\n",
              "      <td>-0.908614</td>\n",
              "      <td>0</td>\n",
              "      <td>1</td>\n",
              "      <td>1</td>\n",
              "      <td>0</td>\n",
              "      <td>0</td>\n",
              "      <td>1</td>\n",
              "      <td>0</td>\n",
              "      <td>0</td>\n",
              "      <td>8.260197</td>\n",
              "    </tr>\n",
              "  </tbody>\n",
              "</table>\n",
              "</div>\n",
              "      <button class=\"colab-df-convert\" onclick=\"convertToInteractive('df-6ec7f53d-2482-4646-aa23-8e1a92446b6b')\"\n",
              "              title=\"Convert this dataframe to an interactive table.\"\n",
              "              style=\"display:none;\">\n",
              "        \n",
              "  <svg xmlns=\"http://www.w3.org/2000/svg\" height=\"24px\"viewBox=\"0 0 24 24\"\n",
              "       width=\"24px\">\n",
              "    <path d=\"M0 0h24v24H0V0z\" fill=\"none\"/>\n",
              "    <path d=\"M18.56 5.44l.94 2.06.94-2.06 2.06-.94-2.06-.94-.94-2.06-.94 2.06-2.06.94zm-11 1L8.5 8.5l.94-2.06 2.06-.94-2.06-.94L8.5 2.5l-.94 2.06-2.06.94zm10 10l.94 2.06.94-2.06 2.06-.94-2.06-.94-.94-2.06-.94 2.06-2.06.94z\"/><path d=\"M17.41 7.96l-1.37-1.37c-.4-.4-.92-.59-1.43-.59-.52 0-1.04.2-1.43.59L10.3 9.45l-7.72 7.72c-.78.78-.78 2.05 0 2.83L4 21.41c.39.39.9.59 1.41.59.51 0 1.02-.2 1.41-.59l7.78-7.78 2.81-2.81c.8-.78.8-2.07 0-2.86zM5.41 20L4 18.59l7.72-7.72 1.47 1.35L5.41 20z\"/>\n",
              "  </svg>\n",
              "      </button>\n",
              "      \n",
              "  <style>\n",
              "    .colab-df-container {\n",
              "      display:flex;\n",
              "      flex-wrap:wrap;\n",
              "      gap: 12px;\n",
              "    }\n",
              "\n",
              "    .colab-df-convert {\n",
              "      background-color: #E8F0FE;\n",
              "      border: none;\n",
              "      border-radius: 50%;\n",
              "      cursor: pointer;\n",
              "      display: none;\n",
              "      fill: #1967D2;\n",
              "      height: 32px;\n",
              "      padding: 0 0 0 0;\n",
              "      width: 32px;\n",
              "    }\n",
              "\n",
              "    .colab-df-convert:hover {\n",
              "      background-color: #E2EBFA;\n",
              "      box-shadow: 0px 1px 2px rgba(60, 64, 67, 0.3), 0px 1px 3px 1px rgba(60, 64, 67, 0.15);\n",
              "      fill: #174EA6;\n",
              "    }\n",
              "\n",
              "    [theme=dark] .colab-df-convert {\n",
              "      background-color: #3B4455;\n",
              "      fill: #D2E3FC;\n",
              "    }\n",
              "\n",
              "    [theme=dark] .colab-df-convert:hover {\n",
              "      background-color: #434B5C;\n",
              "      box-shadow: 0px 1px 3px 1px rgba(0, 0, 0, 0.15);\n",
              "      filter: drop-shadow(0px 1px 2px rgba(0, 0, 0, 0.3));\n",
              "      fill: #FFFFFF;\n",
              "    }\n",
              "  </style>\n",
              "\n",
              "      <script>\n",
              "        const buttonEl =\n",
              "          document.querySelector('#df-6ec7f53d-2482-4646-aa23-8e1a92446b6b button.colab-df-convert');\n",
              "        buttonEl.style.display =\n",
              "          google.colab.kernel.accessAllowed ? 'block' : 'none';\n",
              "\n",
              "        async function convertToInteractive(key) {\n",
              "          const element = document.querySelector('#df-6ec7f53d-2482-4646-aa23-8e1a92446b6b');\n",
              "          const dataTable =\n",
              "            await google.colab.kernel.invokeFunction('convertToInteractive',\n",
              "                                                     [key], {});\n",
              "          if (!dataTable) return;\n",
              "\n",
              "          const docLinkHtml = 'Like what you see? Visit the ' +\n",
              "            '<a target=\"_blank\" href=https://colab.research.google.com/notebooks/data_table.ipynb>data table notebook</a>'\n",
              "            + ' to learn more about interactive tables.';\n",
              "          element.innerHTML = '';\n",
              "          dataTable['output_type'] = 'display_data';\n",
              "          await google.colab.output.renderOutput(dataTable, element);\n",
              "          const docLink = document.createElement('div');\n",
              "          docLink.innerHTML = docLinkHtml;\n",
              "          element.appendChild(docLink);\n",
              "        }\n",
              "      </script>\n",
              "    </div>\n",
              "  </div>\n",
              "  "
            ]
          },
          "metadata": {},
          "execution_count": 297
        }
      ]
    },
    {
      "cell_type": "code",
      "source": [
        "y_name = 'charges_log'\n",
        "X = data.drop([y_name], axis=1).to_numpy()\n",
        "y = data[y_name].to_numpy().reshape(-1, 1)"
      ],
      "metadata": {
        "id": "graT5GChkmMf"
      },
      "execution_count": 298,
      "outputs": []
    },
    {
      "cell_type": "code",
      "source": [
        "print(\"X:\")\n",
        "print(X[:5])\n",
        "print(\"y:\")\n",
        "print(y[:5])"
      ],
      "metadata": {
        "colab": {
          "base_uri": "https://localhost:8080/"
        },
        "id": "EgmnLucekn6g",
        "outputId": "4d53f1cc-d440-41df-f04d-6ef7e3807745"
      },
      "execution_count": 299,
      "outputs": [
        {
          "output_type": "stream",
          "name": "stdout",
          "text": [
            "X:\n",
            "[[-1.43876426 -0.45332    -0.90861367  1.          0.          0.\n",
            "   1.          0.          0.          0.          1.        ]\n",
            " [-1.50996545  0.5096211  -0.07876719  0.          1.          1.\n",
            "   0.          0.          0.          1.          0.        ]\n",
            " [-0.79795355  0.38330685  1.58092576  0.          1.          1.\n",
            "   0.          0.          0.          1.          0.        ]\n",
            " [-0.4419476  -1.30553108 -0.90861367  0.          1.          1.\n",
            "   0.          0.          1.          0.          0.        ]\n",
            " [-0.51314879 -0.29255641 -0.90861367  0.          1.          1.\n",
            "   0.          0.          1.          0.          0.        ]]\n",
            "y:\n",
            "[[9.73417643]\n",
            " [7.45330245]\n",
            " [8.40053847]\n",
            " [9.9980916 ]\n",
            " [8.26019685]]\n"
          ]
        }
      ]
    },
    {
      "cell_type": "code",
      "source": [
        "print(X.shape)"
      ],
      "metadata": {
        "colab": {
          "base_uri": "https://localhost:8080/"
        },
        "id": "Mlwm1Uf5kpuU",
        "outputId": "bc5e0530-5a72-4d9a-8cee-3038643212f1"
      },
      "execution_count": 300,
      "outputs": [
        {
          "output_type": "stream",
          "name": "stdout",
          "text": [
            "(1338, 11)\n"
          ]
        }
      ]
    },
    {
      "cell_type": "code",
      "source": [
        "split_idx = 1000\n",
        "X_train = X[:split_idx]\n",
        "y_train = y[:split_idx]\n",
        "X_test = X[split_idx:]\n",
        "y_test = y[split_idx:]"
      ],
      "metadata": {
        "id": "_6bb8-5wkrRp"
      },
      "execution_count": 301,
      "outputs": []
    },
    {
      "cell_type": "code",
      "source": [
        "X_train.shape"
      ],
      "metadata": {
        "colab": {
          "base_uri": "https://localhost:8080/"
        },
        "id": "WopGBeKJkszO",
        "outputId": "455188c5-3360-45d9-c7cd-57e2c21d7f87"
      },
      "execution_count": 302,
      "outputs": [
        {
          "output_type": "execute_result",
          "data": {
            "text/plain": [
              "(1000, 11)"
            ]
          },
          "metadata": {},
          "execution_count": 302
        }
      ]
    },
    {
      "cell_type": "code",
      "source": [
        "LEARNING_RATE = 1e-3  # с этим параметром придется поиграться\n",
        "N_EPOCHS = 15  # c этим тоже\n",
        "\n",
        "# инициализируем нейросеть\n",
        "model = NN(MSELoss())\n",
        "\n",
        "\n",
        "new_layer = LinearLayer(11, 128)\n",
        "model.add_layer(new_layer)\n",
        "# TODO: добавьте слои в сеть\n",
        "\n",
        "model = train(model, X_train, y_train, minibatch_size=128, epoch=N_EPOCHS,\n",
        "           learning_rate=LEARNING_RATE, X_val=X_test, y_val=y_test, verbose=True)"
      ],
      "metadata": {
        "colab": {
          "base_uri": "https://localhost:8080/",
          "height": 468
        },
        "id": "lNSQB3DbkuZS",
        "outputId": "0c13c0b4-302d-46b5-c15a-f965f846f696"
      },
      "execution_count": 303,
      "outputs": [
        {
          "output_type": "display_data",
          "data": {
            "text/plain": [
              "<Figure size 1500x500 with 2 Axes>"
            ],
            "image/png": "[encoded data removed]"
          },
          "metadata": {}
        }
      ]
    },
    {
      "cell_type": "code",
      "source": [
        "y_train_pred = model.predict(X_train)\n",
        "mean_error_train = np.mean(abs(y_train - y_train_pred))\n",
        "print(f\"Средняя абсолютная ошибка на трейне: {mean_error_train:.3f}\")\n",
        "\n",
        "y_test_pred = model.predict(X_test)\n",
        "mean_error_test = np.mean(abs(y_test - y_test_pred))\n",
        "print(f\"Средняя абсолютная ошибка на тесте: {mean_error_test:.3f}\")"
      ],
      "metadata": {
        "colab": {
          "base_uri": "https://localhost:8080/"
        },
        "id": "IK_RHezwlT45",
        "outputId": "ca6a9200-d46e-4d51-9f23-a0772a83ed21"
      },
      "execution_count": 304,
      "outputs": [
        {
          "output_type": "stream",
          "name": "stdout",
          "text": [
            "Средняя абсолютная ошибка на трейне: 2.729\n",
            "Средняя абсолютная ошибка на тесте: 2.921\n"
          ]
        }
      ]
    },
    {
      "cell_type": "code",
      "source": [
        "y_train_pred = model.predict(X_train)\n",
        "y_train_pred_true_values = np.exp(y_train_pred)\n",
        "y_train_true_values = np.exp(y_train)\n",
        "mean_error_train = np.mean(abs(y_train_true_values - y_train_pred_true_values))\n",
        "print(f\"Средняя ошибка на трейне: {mean_error_train:.2f}\")\n",
        "\n",
        "y_test_pred = model.predict(X_test)\n",
        "y_test_pred_true_values = np.exp(y_test_pred)\n",
        "y_test_true_values = np.exp(y_test)\n",
        "mean_error_test = np.mean(abs(y_test_true_values - y_test_pred_true_values))\n",
        "print(f\"Средняя ошибка на тесте: {mean_error_test:.2f}\")"
      ],
      "metadata": {
        "colab": {
          "base_uri": "https://localhost:8080/"
        },
        "id": "Nn2Ap44cma01",
        "outputId": "3dd3f1d5-761a-4217-ebb0-c0c4a582b555"
      },
      "execution_count": 305,
      "outputs": [
        {
          "output_type": "stream",
          "name": "stdout",
          "text": [
            "Средняя ошибка на трейне: 11929.26\n",
            "Средняя ошибка на тесте: 12767.27\n"
          ]
        }
      ]
    },
    {
      "cell_type": "code",
      "source": [
        "def mape_count(y_true, y_pred):\n",
        "    return np.mean((abs(y_true - y_pred) / y_true) * 100)"
      ],
      "metadata": {
        "id": "k6kL4_0Jmeg2"
      },
      "execution_count": 306,
      "outputs": []
    },
    {
      "cell_type": "code",
      "source": [
        "mape_train = mape_count(y_train_true_values, y_train_pred_true_values)\n",
        "mape_test = mape_count(y_test_true_values, y_test_pred_true_values)\n",
        "print(f\"MAPE train: {mape_train:.2f}%\")\n",
        "print(f\"MAPE test: {mape_test:.2f}%\")"
      ],
      "metadata": {
        "colab": {
          "base_uri": "https://localhost:8080/"
        },
        "id": "9Cam-z8tmfpm",
        "outputId": "e75a81da-106b-4f2e-e709-8fc85ac6b693"
      },
      "execution_count": 307,
      "outputs": [
        {
          "output_type": "stream",
          "name": "stdout",
          "text": [
            "MAPE train: 85.39%\n",
            "MAPE test: 87.44%\n"
          ]
        }
      ]
    },
    {
      "cell_type": "markdown",
      "source": [
        "![1c3c8c004d6ef63fe628ceb156428ba2.jpg](data:image/jpeg;base64,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)"
      ],
      "metadata": {
        "id": "5g1M_0VapfTe"
      }
    }
  ]
}